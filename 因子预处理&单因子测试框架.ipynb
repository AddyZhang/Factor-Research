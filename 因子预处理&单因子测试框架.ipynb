{
 "cells": [
  {
   "cell_type": "code",
   "execution_count": 1,
   "metadata": {},
   "outputs": [],
   "source": [
    "#!/usr/bin/env python\n",
    "# coding: utf-8"
   ]
  },
  {
   "cell_type": "markdown",
   "metadata": {},
   "source": [
    "# 因子预处理"
   ]
  },
  {
   "cell_type": "code",
   "execution_count": 2,
   "metadata": {},
   "outputs": [],
   "source": [
    "import pandas as pd\n",
    "import numpy as np\n",
    "import os\n",
    "os.getcwd()\n",
    "os.chdir('/Users/Zhang/Documents/华泰Project/数据/数据/股票数据')\n",
    "\n",
    "def read_data(name):\n",
    "    file = name + '.h5'\n",
    "    store = pd.HDFStore(file, mode='r')\n",
    "    data = store.select('data')\n",
    "    store.close()\n",
    "    \n",
    "    return data\n",
    "indu = read_data('indu')\n",
    "indu.head(100)\n",
    "#indu['industry'].unique()\n",
    "indu.set_index('code',inplace = True)\n",
    "indu.head()\n",
    "# 由于我们就节选了前300个股票在A股池里，我们也要节选前300个在indu里\n",
    "indu_1 = indu.iloc[:300]\n",
    "indu_1.shape\n",
    "indu_name = indu_1['industry'].unique()\n",
    "stock_name = indu_1.index"
   ]
  },
  {
   "cell_type": "markdown",
   "metadata": {},
   "source": [
    "##  因子中位数MAD去极值"
   ]
  },
  {
   "cell_type": "code",
   "execution_count": 3,
   "metadata": {},
   "outputs": [],
   "source": [
    "# In[2]:\n",
    "\n",
    "\n",
    "# 因子中位数去极值函数\n",
    "# 使用的方法是MAD（Median Absolute Deviation）\n",
    "def MAD(df):\n",
    "    #np.seterr(invalid='ignore')\n",
    "    df_MAD = df.copy()\n",
    "    for i in range(df_MAD.shape[0]):\n",
    "        D_M = df_MAD.iloc[i,:].median()\n",
    "        new_Array = df_MAD.iloc[i,:].values-D_M\n",
    "        D_M1 = np.median(np.absolute(new_Array))\n",
    "        for j in range(df_MAD.shape[1]) :\n",
    "            if df_MAD.iloc[i,j]>(D_M + 5*D_M1):\n",
    "                df_MAD.iloc[i,j] = D_M + 5*D_M1\n",
    "            elif df_MAD.iloc[i,j]<(D_M-5*D_M1):\n",
    "                df_MAD.iloc[i,j] = D_M - 5*D_M1\n",
    "            else:\n",
    "                pass\n",
    "   \n",
    "    return df_MAD\n",
    "\n",
    "\n",
    "# In[3]:"
   ]
  },
  {
   "cell_type": "markdown",
   "metadata": {},
   "source": [
    "## 缺失值处理函数\n",
    "得到新的因子暴露度序列后，将因子暴露度缺失的地方设为中信一\n",
    "级行业相同个股的平均值；"
   ]
  },
  {
   "cell_type": "code",
   "execution_count": 4,
   "metadata": {},
   "outputs": [
    {
     "data": {
      "text/html": [
       "<div>\n",
       "<style scoped>\n",
       "    .dataframe tbody tr th:only-of-type {\n",
       "        vertical-align: middle;\n",
       "    }\n",
       "\n",
       "    .dataframe tbody tr th {\n",
       "        vertical-align: top;\n",
       "    }\n",
       "\n",
       "    .dataframe thead th {\n",
       "        text-align: right;\n",
       "    }\n",
       "</style>\n",
       "<table border=\"1\" class=\"dataframe\">\n",
       "  <thead>\n",
       "    <tr style=\"text-align: right;\">\n",
       "      <th></th>\n",
       "      <th>2012-02-29</th>\n",
       "      <th>2012-03-30</th>\n",
       "      <th>2012-04-27</th>\n",
       "      <th>2012-05-31</th>\n",
       "      <th>2012-06-29</th>\n",
       "      <th>2012-07-31</th>\n",
       "      <th>2012-08-31</th>\n",
       "      <th>2012-09-28</th>\n",
       "      <th>2012-10-31</th>\n",
       "      <th>2012-11-30</th>\n",
       "      <th>...</th>\n",
       "      <th>2018-07-31</th>\n",
       "      <th>2018-08-31</th>\n",
       "      <th>2018-09-28</th>\n",
       "      <th>2018-10-31</th>\n",
       "      <th>2018-11-30</th>\n",
       "      <th>2018-12-28</th>\n",
       "      <th>2019-01-31</th>\n",
       "      <th>2019-02-28</th>\n",
       "      <th>2019-03-29</th>\n",
       "      <th>2019-04-30</th>\n",
       "    </tr>\n",
       "  </thead>\n",
       "  <tbody>\n",
       "    <tr>\n",
       "      <td>000001</td>\n",
       "      <td>25.196153</td>\n",
       "      <td>25.111372</td>\n",
       "      <td>25.164065</td>\n",
       "      <td>25.110098</td>\n",
       "      <td>25.075735</td>\n",
       "      <td>25.071769</td>\n",
       "      <td>25.009612</td>\n",
       "      <td>24.931974</td>\n",
       "      <td>24.934256</td>\n",
       "      <td>24.906520</td>\n",
       "      <td>...</td>\n",
       "      <td>25.809289</td>\n",
       "      <td>25.881955</td>\n",
       "      <td>25.968884</td>\n",
       "      <td>25.956133</td>\n",
       "      <td>25.904406</td>\n",
       "      <td>25.805033</td>\n",
       "      <td>25.973399</td>\n",
       "      <td>26.080919</td>\n",
       "      <td>26.117460</td>\n",
       "      <td>26.194739</td>\n",
       "    </tr>\n",
       "    <tr>\n",
       "      <td>000002</td>\n",
       "      <td>25.234569</td>\n",
       "      <td>25.234569</td>\n",
       "      <td>25.315725</td>\n",
       "      <td>25.345349</td>\n",
       "      <td>25.307900</td>\n",
       "      <td>25.343185</td>\n",
       "      <td>25.202664</td>\n",
       "      <td>25.252522</td>\n",
       "      <td>25.239388</td>\n",
       "      <td>25.289779</td>\n",
       "      <td>...</td>\n",
       "      <td>26.274025</td>\n",
       "      <td>26.304849</td>\n",
       "      <td>26.315190</td>\n",
       "      <td>26.312306</td>\n",
       "      <td>26.361037</td>\n",
       "      <td>26.295240</td>\n",
       "      <td>26.447950</td>\n",
       "      <td>26.456561</td>\n",
       "      <td>26.549628</td>\n",
       "      <td>26.511408</td>\n",
       "    </tr>\n",
       "    <tr>\n",
       "      <td>000004</td>\n",
       "      <td>20.489946</td>\n",
       "      <td>20.341611</td>\n",
       "      <td>20.389639</td>\n",
       "      <td>20.485695</td>\n",
       "      <td>20.382580</td>\n",
       "      <td>20.322988</td>\n",
       "      <td>20.317963</td>\n",
       "      <td>20.340380</td>\n",
       "      <td>20.353836</td>\n",
       "      <td>20.225671</td>\n",
       "      <td>...</td>\n",
       "      <td>21.155134</td>\n",
       "      <td>21.101370</td>\n",
       "      <td>21.012369</td>\n",
       "      <td>20.989467</td>\n",
       "      <td>21.032295</td>\n",
       "      <td>21.020512</td>\n",
       "      <td>20.954100</td>\n",
       "      <td>21.213897</td>\n",
       "      <td>21.321979</td>\n",
       "      <td>21.476064</td>\n",
       "    </tr>\n",
       "    <tr>\n",
       "      <td>000005</td>\n",
       "      <td>21.984373</td>\n",
       "      <td>21.984373</td>\n",
       "      <td>22.012472</td>\n",
       "      <td>21.895004</td>\n",
       "      <td>21.735646</td>\n",
       "      <td>21.638008</td>\n",
       "      <td>21.656157</td>\n",
       "      <td>21.681025</td>\n",
       "      <td>21.698417</td>\n",
       "      <td>21.557965</td>\n",
       "      <td>...</td>\n",
       "      <td>21.927556</td>\n",
       "      <td>21.865343</td>\n",
       "      <td>21.858563</td>\n",
       "      <td>21.784455</td>\n",
       "      <td>21.878766</td>\n",
       "      <td>21.765970</td>\n",
       "      <td>21.820430</td>\n",
       "      <td>22.015625</td>\n",
       "      <td>22.107228</td>\n",
       "      <td>21.974076</td>\n",
       "    </tr>\n",
       "    <tr>\n",
       "      <td>000006</td>\n",
       "      <td>22.374243</td>\n",
       "      <td>22.418777</td>\n",
       "      <td>22.560667</td>\n",
       "      <td>22.523774</td>\n",
       "      <td>22.454431</td>\n",
       "      <td>22.385564</td>\n",
       "      <td>22.363368</td>\n",
       "      <td>22.363368</td>\n",
       "      <td>22.397685</td>\n",
       "      <td>22.325244</td>\n",
       "      <td>...</td>\n",
       "      <td>22.791516</td>\n",
       "      <td>22.711616</td>\n",
       "      <td>22.763833</td>\n",
       "      <td>22.646708</td>\n",
       "      <td>22.707912</td>\n",
       "      <td>22.668172</td>\n",
       "      <td>22.660420</td>\n",
       "      <td>22.831656</td>\n",
       "      <td>22.932909</td>\n",
       "      <td>22.831656</td>\n",
       "    </tr>\n",
       "  </tbody>\n",
       "</table>\n",
       "<p>5 rows × 87 columns</p>\n",
       "</div>"
      ],
      "text/plain": [
       "        2012-02-29  2012-03-30  2012-04-27  2012-05-31  2012-06-29  \\\n",
       "000001   25.196153   25.111372   25.164065   25.110098   25.075735   \n",
       "000002   25.234569   25.234569   25.315725   25.345349   25.307900   \n",
       "000004   20.489946   20.341611   20.389639   20.485695   20.382580   \n",
       "000005   21.984373   21.984373   22.012472   21.895004   21.735646   \n",
       "000006   22.374243   22.418777   22.560667   22.523774   22.454431   \n",
       "\n",
       "        2012-07-31  2012-08-31  2012-09-28  2012-10-31  2012-11-30  ...  \\\n",
       "000001   25.071769   25.009612   24.931974   24.934256   24.906520  ...   \n",
       "000002   25.343185   25.202664   25.252522   25.239388   25.289779  ...   \n",
       "000004   20.322988   20.317963   20.340380   20.353836   20.225671  ...   \n",
       "000005   21.638008   21.656157   21.681025   21.698417   21.557965  ...   \n",
       "000006   22.385564   22.363368   22.363368   22.397685   22.325244  ...   \n",
       "\n",
       "        2018-07-31  2018-08-31  2018-09-28  2018-10-31  2018-11-30  \\\n",
       "000001   25.809289   25.881955   25.968884   25.956133   25.904406   \n",
       "000002   26.274025   26.304849   26.315190   26.312306   26.361037   \n",
       "000004   21.155134   21.101370   21.012369   20.989467   21.032295   \n",
       "000005   21.927556   21.865343   21.858563   21.784455   21.878766   \n",
       "000006   22.791516   22.711616   22.763833   22.646708   22.707912   \n",
       "\n",
       "        2018-12-28  2019-01-31  2019-02-28  2019-03-29  2019-04-30  \n",
       "000001   25.805033   25.973399   26.080919   26.117460   26.194739  \n",
       "000002   26.295240   26.447950   26.456561   26.549628   26.511408  \n",
       "000004   21.020512   20.954100   21.213897   21.321979   21.476064  \n",
       "000005   21.765970   21.820430   22.015625   22.107228   21.974076  \n",
       "000006   22.668172   22.660420   22.831656   22.932909   22.831656  \n",
       "\n",
       "[5 rows x 87 columns]"
      ]
     },
     "execution_count": 4,
     "metadata": {},
     "output_type": "execute_result"
    }
   ],
   "source": [
    "# find stock in same industry，use groupby\n",
    "def replace_missing(df):\n",
    "    df_1 = df.copy()\n",
    "    df_2 = pd.concat([indu_1,df_1.T],axis = 1,sort = True)\n",
    "    df_3 = df_2.groupby('industry')\n",
    "    new_df = pd.DataFrame()\n",
    "    df_4 = pd.DataFrame()\n",
    "    df_5 = pd.DataFrame()\n",
    "    count = 0\n",
    "    \n",
    "    for i in indu_name:\n",
    "        if df_2['industry'].isin([i]).any():\n",
    "            df_4 = df_3.get_group(i)\n",
    "            count += 1\n",
    "            if count == 1:\n",
    "                new_df = series_replace(df_4)\n",
    "            else:\n",
    "                df_5 = series_replace(df_4)\n",
    "        new_df = pd.concat([new_df,df_5],axis = 0)\n",
    "    new_df.sort_index(inplace = True)    \n",
    "    return new_df\n",
    "\n",
    "def series_replace(df_4):\n",
    "    for i in range(df_4.shape[1]-1):\n",
    "        if df_4.iloc[:,i+1].isnull().any(): # find nan in pd series\n",
    "            mean = np.nanmean((df_4.iloc[:,i+1].values))\n",
    "            df_4.iloc[:,i+1].fillna(mean,inplace = True) # replace nan with mean in pd series   \n",
    "        else:\n",
    "            pass\n",
    "    return df_4\n",
    "\n",
    "\n",
    "# In[4]:\n",
    "\n",
    "\n",
    "# 调出市值数据\n",
    "\n",
    "os.chdir('/Users/Zhang/Documents/华泰Project/Computed_Factor/Fundamental')\n",
    "import numpy as np\n",
    "MV_1 = pd.read_csv('MV_1.csv',index_col = 0)\n",
    "MV_2 = MAD(MV_1)\n",
    "MV_3 = replace_missing(MV_2)\n",
    "log_mkt_cap = np.log(MV_3.iloc[:,1:])\n",
    "#MV_1.head()\n",
    "log_mkt_cap.head()"
   ]
  },
  {
   "cell_type": "markdown",
   "metadata": {},
   "source": [
    "## 因子行业市值中性化"
   ]
  },
  {
   "cell_type": "code",
   "execution_count": 5,
   "metadata": {},
   "outputs": [],
   "source": [
    "# 因子与行业市值进行横截面的线性回归，残差就是新的因子（与行业市值正交）\n",
    "\n",
    "# ### 行业哑变量\n",
    "\n",
    "# In[5]:\n",
    "\n",
    "\n",
    "import statsmodels.api as sm\n",
    "import numpy as np\n",
    "a = np.zeros(shape=(300,28))\n",
    "dummy_industry = pd.DataFrame(a,index = stock_name ,columns = indu_name)\n",
    "dummy_industry\n",
    "for i in range(dummy_industry.shape[0]):\n",
    "    for j in indu_name:\n",
    "        if indu_1.iloc[i,0] == j:\n",
    "            dummy_industry.iloc[i,dummy_industry.columns.get_loc(j)] = 1\n",
    "dummy_industry.head()\n",
    "#dummy_industry.shape\n",
    "\n",
    "\n",
    "# ### 行业市值中性化函数\n",
    "\n",
    "# In[6]:\n",
    "\n",
    "\n",
    "def neutralize(factor_1):\n",
    "    factor = factor_1.copy()\n",
    "    residual_Df = pd.DataFrame()\n",
    "    #const = np.ones((len(log_mkt_cap),1)).reshape(-1,1)\n",
    "    const = pd.Series(np.ones(300))\n",
    "    factor.drop(columns = 'industry',inplace = True)\n",
    "    for i in range(factor.shape[1]):\n",
    "        xx = pd.concat([log_mkt_cap.iloc[:,i],dummy_industry],axis = 1) # add_constant optimize\n",
    "        residual_Series = pd.Series()\n",
    "        y = np.array(factor.iloc[:,i])\n",
    "        x = sm.add_constant(xx.values)\n",
    "        model = sm.OLS(y,x)\n",
    "        residual = model.fit().resid\n",
    "        if i == 1:\n",
    "            residual_Series = pd.Series(residual)\n",
    "            residual_Df = residual_Series\n",
    "        else:\n",
    "            residual_Series = pd.Series(residual)\n",
    "            residual_Df = pd.concat([residual_Df,residual_Series],axis = 1)\n",
    "    residual_Df.index = factor.index\n",
    "    residual_Df.columns = factor.iloc[:,:-1].columns\n",
    "    return residual_Df"
   ]
  },
  {
   "cell_type": "markdown",
   "metadata": {},
   "source": [
    "## z-score函数"
   ]
  },
  {
   "cell_type": "code",
   "execution_count": 6,
   "metadata": {},
   "outputs": [],
   "source": [
    "def standardize(df):\n",
    "    cols = list(df.columns)\n",
    "    new_df = pd.DataFrame()\n",
    "    for col in cols:\n",
    "        new_df[col] = (df[col] - df[col].mean())/df[col].std(ddof=0)\n",
    "    #new_df = new_df\n",
    "    #new_df_1 = new_df.insert(0,\"industry\",indu_1['industry'])\n",
    "    new_df.index = indu_1.index # stock ID\n",
    "    return new_df"
   ]
  },
  {
   "cell_type": "markdown",
   "metadata": {},
   "source": [
    "## 特征处理（使用创建好的MAD，replace_misssing,neutralize,standardize函数）"
   ]
  },
  {
   "cell_type": "code",
   "execution_count": 7,
   "metadata": {},
   "outputs": [],
   "source": [
    "def preprocess(df):\n",
    "    df_MAD = MAD(df)\n",
    "    df_replace = replace_missing(df)\n",
    "    residual_df = neutralize(df_replace)\n",
    "    new_df = standardize(residual_df)\n",
    "    return new_df\n",
    "\n",
    "# import factors\n",
    "# EP \n",
    "os.chdir('/Users/Zhang/Documents/华泰Project/Computed_Factor/Fundamental')\n",
    "EP_1 = pd.read_csv('EP_1.csv',index_col = 0)\n",
    "new_EP = preprocess(EP_1)\n",
    "new_EP.to_csv(r'/Users/Zhang/Documents/华泰Project/Computed_Factor/Fundamental/new_EP.csv')\n",
    "# BP\n",
    "BP_1 = pd.read_csv('BP_1.csv',index_col = 0)\n",
    "new_BP = preprocess(BP_1)\n",
    "new_BP.to_csv(r'/Users/Zhang/Documents/华泰Project/Computed_Factor/Fundamental/new_BP.csv')\n",
    "# EPcut\n",
    "EPcut_1 = pd.read_csv('EPcut_1.csv',index_col = 0)\n",
    "new_EPcut = preprocess(EPcut_1)\n",
    "new_EPcut.to_csv(r'/Users/Zhang/Documents/华泰Project/Computed_Factor/Fundamental/new_EPcut.csv')\n",
    "# SP\n",
    "SP_1 = pd.read_csv('SP_1.csv',index_col = 0)\n",
    "new_SP = preprocess(SP_1)\n",
    "new_SP.to_csv(r'/Users/Zhang/Documents/华泰Project/Computed_Factor/Fundamental/new_SP.csv')\n",
    "# NCFP\n",
    "NCFP_1 = pd.read_csv('NCFP_1.csv',index_col = 0)\n",
    "new_NCFP = preprocess(NCFP_1)\n",
    "new_NCFP.to_csv(r'/Users/Zhang/Documents/华泰Project/Computed_Factor/Fundamental/new_NCFP.csv')\n",
    "# OCFP\n",
    "OCFP_1 = pd.read_csv('OCFP_1.csv',index_col = 0)\n",
    "new_OCFP = preprocess(OCFP_1)\n",
    "new_OCFP.to_csv(r'/Users/Zhang/Documents/华泰Project/Computed_Factor/Fundamental/new_OCFP.csv')\n",
    "# G_PE\n",
    "G_PE_1 = pd.read_csv('G_PE_1.csv',index_col = 0)\n",
    "new_G_PE = preprocess(G_PE_1)\n",
    "new_G_PE.to_csv(r'/Users/Zhang/Documents/华泰Project/Computed_Factor/Fundamental/new_G_PE.csv')"
   ]
  },
  {
   "cell_type": "markdown",
   "metadata": {},
   "source": [
    "# 个股收益率数据"
   ]
  },
  {
   "cell_type": "code",
   "execution_count": 8,
   "metadata": {},
   "outputs": [
    {
     "data": {
      "text/plain": [
       "(300, 87)"
      ]
     },
     "execution_count": 8,
     "metadata": {},
     "output_type": "execute_result"
    }
   ],
   "source": [
    "import os\n",
    "os.getcwd()\n",
    "Stock_Return_1 = pd.read_csv('Stock_Return_1.csv',index_col = 0)\n",
    "# we need future one month stock return to be the label for month-end factor\n",
    "Stock_Return = Stock_Return_1.shift(-1)\n",
    "Stock_Return = Stock_Return.T\n",
    "Stock_Return.shape"
   ]
  },
  {
   "cell_type": "markdown",
   "metadata": {},
   "source": [
    "# 观察因子变化"
   ]
  },
  {
   "cell_type": "markdown",
   "metadata": {},
   "source": [
    "## 观察因子分布"
   ]
  },
  {
   "cell_type": "code",
   "execution_count": 9,
   "metadata": {},
   "outputs": [
    {
     "data": {
      "application/vnd.jupyter.widget-view+json": {
       "model_id": "2a4159beb1ce4c749296eaab6f817186",
       "version_major": 2,
       "version_minor": 0
      },
      "text/plain": [
       "interactive(children=(Dropdown(description='factor_name', options=('new_EP', 'new_EPcut', 'new_BP', 'new_SP', …"
      ]
     },
     "metadata": {},
     "output_type": "display_data"
    }
   ],
   "source": [
    "from ipywidgets import interact\n",
    "import seaborn as sns\n",
    "# 2012 2013 2014 2015 2016 2017 2018 2019， new_EP 变化\n",
    "factor_list = ['new_EP','new_EPcut','new_BP','new_SP','new_NCFP',\n",
    "              'new_OCFP','new_G_PE']\n",
    "@interact\n",
    "def display_dist(factor_name = factor_list):\n",
    "    ff = eval(factor_name).copy()\n",
    "    ff.drop(index = '000001',inplace = True)\n",
    "    return sns.distplot(ff.mean(axis = 1))"
   ]
  },
  {
   "cell_type": "markdown",
   "metadata": {},
   "source": [
    "## 观察因子在行业变化（月频）"
   ]
  },
  {
   "cell_type": "code",
   "execution_count": 10,
   "metadata": {},
   "outputs": [
    {
     "data": {
      "application/vnd.jupyter.widget-view+json": {
       "model_id": "ebf0c9e93e0f4b398d322793120a0089",
       "version_major": 2,
       "version_minor": 0
      },
      "text/plain": [
       "interactive(children=(Dropdown(description='factor_name', options=('new_EP', 'new_EPcut', 'new_BP', 'new_SP', …"
      ]
     },
     "metadata": {},
     "output_type": "display_data"
    }
   ],
   "source": [
    "import seaborn as sns\n",
    "import matplotlib.pyplot as plt\n",
    "\n",
    "from matplotlib.font_manager import FontProperties # display chinese char\n",
    "font = FontProperties(fname='/Library/Fonts/Songti.ttc') # display chinese char\n",
    "\n",
    "def get_df_name(df):\n",
    "    name =[x for x in globals() if globals()[x] is df][0]\n",
    "    return name\n",
    "\n",
    "def factor_industry(factor,monthend):\n",
    "    yy = factor.copy()\n",
    "    yy.drop(index = '000001',inplace = True)\n",
    "    factor_indu = yy.groupby(indu_1['industry'])[monthend].apply(lambda x: x.mean()) \n",
    "    # if we care about year mean value, we could create year column in factor and [year] and getgroup[2014]\n",
    "    fig = plt.figure(figsize = (20,8))\n",
    "    plt.title(str(monthend) + ' ' +  get_df_name(factor),FontProperties=font,fontsize = 25)# 标题\n",
    "    #plt.ylabel(u\"xx\",FontProperties=font)  \n",
    "    plt.xlabel(\"行业\",FontProperties = font,fontsize = 25)\n",
    "    plt.xticks(FontProperties = font,fontsize = 25)\n",
    "    ax = factor_indu.plot.bar()\n",
    "\n",
    "@interact\n",
    "def disp_end(factor_name = factor_list,\n",
    "             date = Stock_Return.columns):\n",
    "    factor_industry(eval(factor_name),date)"
   ]
  },
  {
   "cell_type": "markdown",
   "metadata": {},
   "source": [
    "## 观察因子在各行业的变化（年频）"
   ]
  },
  {
   "cell_type": "code",
   "execution_count": 11,
   "metadata": {},
   "outputs": [
    {
     "data": {
      "application/vnd.jupyter.widget-view+json": {
       "model_id": "383077800eb143ac882c282558311efb",
       "version_major": 2,
       "version_minor": 0
      },
      "text/plain": [
       "interactive(children=(Dropdown(description='factor_name', options=('new_EP', 'new_EPcut', 'new_BP', 'new_SP', …"
      ]
     },
     "metadata": {},
     "output_type": "display_data"
    }
   ],
   "source": [
    "# use pandas DatetimeIndex to extract year \n",
    "# To visualize annual factor performance\n",
    "# We fisrt groupby year and get_group('2014')\n",
    "# Then we groupby industry and sum of each industry to get average of monthly factor \n",
    "# then we times sqrt12 to represent annual factor performance\n",
    "from matplotlib.font_manager import FontProperties # display chinese char\n",
    "font = FontProperties(fname='/Library/Fonts/Songti.ttc') # display chinese char\n",
    "\n",
    "def annual(factor,year):\n",
    "    yy = factor.copy()\n",
    "    yy.drop(index = '000001',inplace = True)\n",
    "    yy = yy.T.reset_index()\n",
    "    yy['year'] = pd.DatetimeIndex(yy['index']).year\n",
    "    year_group = yy.groupby(['year']).get_group(year)\n",
    "    zz = pd.DataFrame(year_group)\n",
    "    ff = zz.T\n",
    "    hh = ff.groupby(indu_1['industry']).apply(lambda x: x.mean(axis = 1).mean())\n",
    "    fig = plt.figure(figsize = (20,8))\n",
    "    plt.title(str(year) + ' ' +  get_df_name(factor),FontProperties=font,fontsize = 25)# 标题\n",
    "    plt.xticks(FontProperties = font,fontsize = 25) # display chinese character\n",
    "    plt.xlabel('行业',FontProperties = font,fontsize = 25)\n",
    "    ax = hh.plot.bar()  \n",
    "\n",
    "@interact\n",
    "def display_plt(factor_name = factor_list,\n",
    "               year = (2012,2019,1)):\n",
    "    annual(eval(factor_name),year)"
   ]
  },
  {
   "cell_type": "markdown",
   "metadata": {},
   "source": [
    "# 因子相关系数"
   ]
  },
  {
   "cell_type": "code",
   "execution_count": 12,
   "metadata": {},
   "outputs": [],
   "source": [
    "# Correlation Heatmap\n",
    "# 测试因子相关性，如果相关性过高，可能出现共线性，会使模型出现较大误差\n",
    "# 通过近62个月(2014年2月28日 - 2019年3月29日）月度数据来计算correlation mean\n",
    "# correlation standard dev\n",
    "# correlation abs\n",
    "\n",
    "class corr:\n",
    "    \n",
    "    def __init__(self,df1,df2):\n",
    "        self.df1 = df1\n",
    "        self.df2 = df2\n",
    "        self.df  = pd.DataFrame()\n",
    "        self.mean = []\n",
    "        self.std = []\n",
    "    \n",
    "    def corr_t_ab(self):\n",
    "        self.df = self.df1.corrwith(self.df2,axis = 0)\n",
    "        return self.df\n",
    "    \n",
    "    def mean_corr(self):\n",
    "        self.corr_t_ab()\n",
    "        self.mean = self.df.mean(axis = 0)\n",
    "        return self.mean\n",
    "    \n",
    "    def std_corr(self):\n",
    "        self.corr_t_ab()\n",
    "        self.std = self.df.std(axis = 0)\n",
    "        return self.std\n",
    "\n",
    "items = [eval(x) for x in factor_list]\n",
    "\n",
    "matrix_mean = np.eye(len(items))\n",
    "matrix_std = np.eye(len(items))\n",
    "# construct mean and std matrix\n",
    "\n",
    "for j in range(len(items)):\n",
    "    i = 0\n",
    "    while i < len(items):\n",
    "        if i == j:\n",
    "            i += 1\n",
    "            continue     \n",
    "        elif j > i:\n",
    "            i += 1\n",
    "            continue\n",
    "        else: \n",
    "            matrix_mean[i][j] = corr(items[i],items[j]).mean_corr()\n",
    "            matrix_mean[j][i] = matrix_mean[i][j]\n",
    "            \n",
    "            matrix_std[i][j] =  corr(items[i],items[j]).std_corr()\n",
    "            matrix_std[j][i] = matrix_std[i][j]\n",
    "            i+=1"
   ]
  },
  {
   "cell_type": "markdown",
   "metadata": {},
   "source": [
    "## 因子系数平均值"
   ]
  },
  {
   "cell_type": "code",
   "execution_count": 13,
   "metadata": {},
   "outputs": [
    {
     "data": {
      "text/plain": [
       "<matplotlib.axes._subplots.AxesSubplot at 0x12bc17da0>"
      ]
     },
     "execution_count": 13,
     "metadata": {},
     "output_type": "execute_result"
    },
    {
     "data": {
      "image/png": "[encoded data removed]",
      "text/plain": [
       "<Figure size 432x288 with 2 Axes>"
      ]
     },
     "metadata": {
      "needs_background": "light"
     },
     "output_type": "display_data"
    }
   ],
   "source": [
    "matrix_mean = pd.DataFrame(matrix_mean,index = factor_list,columns = factor_list)\n",
    "sns.heatmap(matrix_mean,annot = True)"
   ]
  },
  {
   "cell_type": "markdown",
   "metadata": {},
   "source": [
    "## 因子系数波动（稳定性）"
   ]
  },
  {
   "cell_type": "code",
   "execution_count": 14,
   "metadata": {},
   "outputs": [
    {
     "data": {
      "text/plain": [
       "<matplotlib.axes._subplots.AxesSubplot at 0x128761dd8>"
      ]
     },
     "execution_count": 14,
     "metadata": {},
     "output_type": "execute_result"
    },
    {
     "data": {
      "image/png": "[encoded data removed]",
      "text/plain": [
       "<Figure size 432x288 with 2 Axes>"
      ]
     },
     "metadata": {
      "needs_background": "light"
     },
     "output_type": "display_data"
    }
   ],
   "source": [
    "matrix_std = pd.DataFrame(matrix_std,index = factor_list,columns = factor_list)\n",
    "sns.heatmap(matrix_std,annot = True)"
   ]
  },
  {
   "cell_type": "markdown",
   "metadata": {},
   "source": [
    "## 因子系数强度"
   ]
  },
  {
   "cell_type": "code",
   "execution_count": 15,
   "metadata": {},
   "outputs": [
    {
     "data": {
      "image/png": "[encoded data removed]",
      "text/plain": [
       "<Figure size 432x288 with 2 Axes>"
      ]
     },
     "metadata": {
      "needs_background": "light"
     },
     "output_type": "display_data"
    }
   ],
   "source": [
    "matrix_abs = matrix_mean/matrix_std\n",
    "matrix_abs = pd.DataFrame(matrix_abs,index = factor_list,columns = factor_list)\n",
    "lf = sns.heatmap(matrix_abs,annot = True)"
   ]
  },
  {
   "cell_type": "markdown",
   "metadata": {},
   "source": [
    "#  单因子测试"
   ]
  },
  {
   "cell_type": "markdown",
   "metadata": {},
   "source": [
    "## 分层投资组合"
   ]
  },
  {
   "cell_type": "code",
   "execution_count": 16,
   "metadata": {},
   "outputs": [
    {
     "data": {
      "application/vnd.jupyter.widget-view+json": {
       "model_id": "68a0115434b74dc38c811c6ee7bf447d",
       "version_major": 2,
       "version_minor": 0
      },
      "text/plain": [
       "interactive(children=(Dropdown(description='factor_name', options=('new_EP', 'new_EPcut', 'new_BP', 'new_SP', …"
      ]
     },
     "metadata": {},
     "output_type": "display_data"
    }
   ],
   "source": [
    "# 每月月末将股票按因子值排序，分5组，买入第一组的股票，持有到下月最后一个交易日，repeat\n",
    "# Long-only Portfolio -0.009786 -0.000928\n",
    "# we will have 5 equal-weighted portfolio\n",
    "# 我们选择long这一月月末因子排名前60的股票\n",
    "# 然找出组合里的股票对应的未来一月收益率\n",
    "# 每个股票是equal-weighted，计算出未来一个月此组合的投资回报\n",
    "\n",
    "def group_portfolio(factor):\n",
    "    cols = list(new_EP.iloc[:,:-1].columns) # time-series\n",
    "    df2 = pd.Series()\n",
    "    df = []\n",
    "    for col in cols:\n",
    "        df2 = Stock_Return[col].groupby(pd.cut(factor[col],5)).mean() # use cut function to split five portfolios\n",
    "        df.append(df2.iloc[::-1].values) # reverse array\n",
    "    df = pd.DataFrame(df)\n",
    "    df.columns = ['a','b','c','d','e']\n",
    "    df.index = cols            \n",
    "    return df\n",
    "\n",
    "import datetime\n",
    "# converting the index as date\n",
    "# Extracting year and month\n",
    "df_1 = pd.DataFrame()\n",
    "df_1['index'] = pd.to_datetime(new_EP.T.iloc[:-1].index)\n",
    "df_1['YearMonth'] = pd.DatetimeIndex(df_1['index']).map(lambda x: str(x.year) +'-' + str(x.month))\n",
    "len(df_1)\n",
    "\n",
    "\n",
    "# 因子组合收益曲线如果明显分离，就是好的因子，并且收益各组之间是单调关系\n",
    "import matplotlib.pyplot as plt\n",
    "from ipywidgets import interact_manual\n",
    "\n",
    "def factor_portfo(df):\n",
    "    fig = plt.figure(figsize = (20,8))\n",
    "    \n",
    "    plt.plot(df_1['YearMonth'],df['a'],'g')\n",
    "    plt.plot(df_1['YearMonth'],df['b'],'b')\n",
    "    plt.plot(df_1['YearMonth'],df['c'],'r')\n",
    "    plt.plot(df_1['YearMonth'],df['d'],'y')\n",
    "    plt.plot(df_1['YearMonth'],df['e'],'black')\n",
    "\n",
    "    \n",
    "    #plt.title(FontProperties=font,fontsize = 25)# 标题\n",
    "    graph = plt.xticks(rotation = 90)\n",
    "    #plt.xticks(FontProperties = font,fontsize = 25) # display chinese character\n",
    "\n",
    "@interact_manual\n",
    "def display_factor_port_rank(factor_name = factor_list):\n",
    "    gp = group_portfolio(eval(factor_name))\n",
    "    factor_portfo(gp)"
   ]
  },
  {
   "cell_type": "markdown",
   "metadata": {},
   "source": [
    "## 分层组合表现\n",
    "使用parent class先构造通过因子值排序的a b c d e股票收益组合，然后使用child class构造组合年化收益率 年化波动率 夏普比率 最大回撤 年化超额收益率 超额收益年化波动率 信息比率 超额收益最大回撤等函数"
   ]
  },
  {
   "cell_type": "code",
   "execution_count": 17,
   "metadata": {},
   "outputs": [
    {
     "data": {
      "application/vnd.jupyter.widget-view+json": {
       "model_id": "cb9c7aaca07f4c898c4d98bcd014bd48",
       "version_major": 2,
       "version_minor": 0
      },
      "text/plain": [
       "interactive(children=(Dropdown(description='factor_name', options=('new_EP', 'new_EPcut', 'new_BP', 'new_SP', …"
      ]
     },
     "metadata": {},
     "output_type": "display_data"
    }
   ],
   "source": [
    "Index_Return = pd.read_csv('Index_Return_1.csv',index_col = 0)\n",
    "Index_Return = Index_Return.iloc[:-1] #drop last row\n",
    "\n",
    "class group_port:\n",
    "    def __init__(self,factor):\n",
    "        self.factor = factor\n",
    "    \n",
    "    def group_portfolio(self):\n",
    "        self.cols = list(new_EP.iloc[:,:-1].columns) # time-series\n",
    "        self.df2 = pd.Series()\n",
    "        self.df = []\n",
    "        for col in self.cols:\n",
    "            self.df2 = Stock_Return[col].groupby(pd.cut(self.factor[col],5)).mean() # use cut function to split five portfolios\n",
    "            self.df.append(self.df2.iloc[::-1].values) # reverse array\n",
    "        self.df = pd.DataFrame(self.df)\n",
    "        self.df.columns = ['a','b','c','d','e']\n",
    "        self.df.index = self.cols            \n",
    "        return self.df\n",
    "\n",
    "class abs_perfor(group_port):\n",
    "    def __init__(self,factor):\n",
    "        super().__init__(factor)\n",
    "        self.df = self.group_portfolio()\n",
    "        \n",
    "    def annualized_return(self, N = 12):\n",
    "        return np.sqrt(N) * (self.df.mean())\n",
    "    \n",
    "    def annualized_sharp(self, N = 12):\n",
    "        return np.sqrt(N) * (self.df.mean()/self.df.std())\n",
    "    \n",
    "    def annulized_vol(self, N = 12):\n",
    "        return np.sqrt(N) * (self.df.std())\n",
    "    \n",
    "    def max_DD(self):\n",
    "        self.list_dd = []\n",
    "        for i in range(self.df.shape[1]):\n",
    "            self.ts = (self.df.iloc[:,i] + 1).cumprod()\n",
    "            self.max_dd = np.ptp(self.ts)/self.ts.max()\n",
    "            self.list_dd.append(self.max_dd)\n",
    "        return self.list_dd\n",
    "    \n",
    "class alpha_perfor(group_port):\n",
    "    def __init__(self,factor,benchmark):\n",
    "        super().__init__(factor)\n",
    "        self.df = self.group_portfolio()\n",
    "        self.bench = benchmark\n",
    "        \n",
    "    def annualized_alpha_ret(self,N = 12):\n",
    "        self.al_ret = np.sqrt(N) * ((self.df.subtract(self.bench,fill_value = 0)).mean())\n",
    "        self.al_ret.drop(['0'],inplace = True)\n",
    "        return self.al_ret\n",
    "    \n",
    "    def annualized_alpha_vol(self,N = 12):\n",
    "        self.al_vol = np.sqrt(N) * ((self.df.subtract(self.bench,fill_value = 0)).std())\n",
    "        self.al_vol.drop(['0'],inplace = True)\n",
    "        return self.al_vol\n",
    "    \n",
    "    def annualized_alpha_max_dd(self):\n",
    "        self.ts_al_ret = self.df.subtract(self.bench,fill_value = 0)\n",
    "        self.ts_al_ret = self.ts_al_ret.iloc[:,1:]\n",
    "        self.alpha_dd = []\n",
    "        \n",
    "        for i in range(self.ts_al_ret.shape[1]):\n",
    "            self.ts_alpha = (self.ts_al_ret.iloc[:,i] + 1).cumprod()\n",
    "            self.max_alpha_dd = np.ptp(self.ts_alpha)/self.ts_alpha.max()\n",
    "            self.alpha_dd.append(self.max_alpha_dd)\n",
    "        return self.alpha_dd\n",
    "\n",
    "def perfor_df(factor):\n",
    "    \n",
    "    factor_obj = abs_perfor(factor)\n",
    "    annual_ret = factor_obj.annualized_return()\n",
    "    annual_sharp = factor_obj.annualized_sharp()\n",
    "    annual_vol = factor_obj.annulized_vol()\n",
    "    annual_max_DD = factor_obj.max_DD()\n",
    "    \n",
    "    alpha_obj = alpha_perfor(factor,Index_Return)\n",
    "    alpha_ret = alpha_obj.annualized_alpha_ret()\n",
    "    alpha_vol = alpha_obj.annualized_alpha_vol()\n",
    "    alpha_max_dd = alpha_obj.annualized_alpha_max_dd()\n",
    "    \n",
    "    dict1 = {'annual_ret':annual_ret,'annual_sharp':annual_sharp,\n",
    "            'annual_vol':annual_vol,'annual_max_DD':annual_max_DD,\n",
    "            'alpha_ret':alpha_ret,'alpha_vol ':alpha_vol,\n",
    "            'alpha_max_dd':alpha_max_dd}\n",
    "    \n",
    "    performance_df = pd.DataFrame(dict1,index = ['a','b','c','d','e'])\n",
    "    \n",
    "    return performance_df\n",
    "\n",
    "@interact_manual\n",
    "def display_perfor_table(factor_name = factor_list):\n",
    "    return perfor_df(eval(factor_name))"
   ]
  },
  {
   "cell_type": "markdown",
   "metadata": {},
   "source": [
    "## 因子值与股票收益率关系"
   ]
  },
  {
   "cell_type": "markdown",
   "metadata": {},
   "source": [
    "### IC"
   ]
  },
  {
   "cell_type": "code",
   "execution_count": 18,
   "metadata": {},
   "outputs": [
    {
     "data": {
      "application/vnd.jupyter.widget-view+json": {
       "model_id": "43a7ad3ec7c54a699e5384f7779bfbfe",
       "version_major": 2,
       "version_minor": 0
      },
      "text/plain": [
       "interactive(children=(Dropdown(description='factor_name', options=('new_EP', 'new_EPcut', 'new_BP', 'new_SP', …"
      ]
     },
     "metadata": {},
     "output_type": "display_data"
    }
   ],
   "source": [
    "# 计算IC \n",
    "# IC均值大于0.03就是有效因子\n",
    "import scipy\n",
    "def IC(factor):\n",
    "    cols = factor.columns\n",
    "    list2 = []\n",
    "    for col in cols:\n",
    "        x = np.empty([1,1]) # PAY ATTENTION to CREATE EMPTY ARRAY\n",
    "        x = scipy.stats.pearsonr(factor[col],Stock_Return[col])\n",
    "        list2.append(x[0])\n",
    "        #df = pd.Da(list1,index = cols)\n",
    "    return list2\n",
    "\n",
    "def IC_plot(factor):\n",
    "    df_2 = pd.DataFrame()\n",
    "    df_2['index'] = pd.to_datetime(new_EP.T.index)\n",
    "    df_2['YearMonth'] = pd.DatetimeIndex(df_2['index']).map(lambda x: str(x.year) +'-' + str(x.month))\n",
    "\n",
    "    dts = new_EP.T.index#.to_pydatetime()\n",
    "    fig = plt.figure(figsize = (20,8))\n",
    "    ax = fig.add_subplot(111)\n",
    "    ax.plot(df_2['YearMonth'],factor,'b')\n",
    "    graph = plt.xticks(rotation = 45)\n",
    "    \n",
    "@interact\n",
    "def display_IC(factor_name = factor_list):\n",
    "    f = IC(eval(factor_name))\n",
    "    IC_plot(f)"
   ]
  },
  {
   "cell_type": "markdown",
   "metadata": {},
   "source": [
    "### RankIC"
   ]
  },
  {
   "cell_type": "code",
   "execution_count": 19,
   "metadata": {},
   "outputs": [
    {
     "data": {
      "application/vnd.jupyter.widget-view+json": {
       "model_id": "e84ba5aab1fa48af9fe624e6f185fbb9",
       "version_major": 2,
       "version_minor": 0
      },
      "text/plain": [
       "interactive(children=(Dropdown(description='factor_name', options=('new_EP', 'new_EPcut', 'new_BP', 'new_SP', …"
      ]
     },
     "metadata": {},
     "output_type": "display_data"
    }
   ],
   "source": [
    "# using spearman because relationship between two RVs might not be linear.\n",
    "# spearman illustrates montonic relation between the two\n",
    "\n",
    "# rankIC是当前个股因子值与个股下一期收益率的相关系数\n",
    "# 秩相关系数大于多少是有效的\n",
    "def rankIC(factor):\n",
    "    cols = factor.columns\n",
    "    list1 = []\n",
    "    for col in cols:\n",
    "        x = np.empty([1,1]) # PAY ATTENTION to CREATE EMPTY ARRAY\n",
    "        x = scipy.stats.spearmanr(factor[col],Stock_Return[col])\n",
    "        list1.append(x[0])\n",
    "    return list1\n",
    "\n",
    "def rank_IC_plot(factor):\n",
    "    df_2 = pd.DataFrame()\n",
    "    df_2['index'] = pd.to_datetime(new_EP.T.index)\n",
    "    df_2['YearMonth'] = pd.DatetimeIndex(df_2['index']).map(lambda x: str(x.year) +'-' + str(x.month))\n",
    "\n",
    "    dts = new_EP.T.index#.to_pydatetime()\n",
    "    fig = plt.figure(figsize = (20,8))\n",
    "    ax = fig.add_subplot(111)\n",
    "    ax.plot(df_2['YearMonth'],factor,'b')\n",
    "    graph = plt.xticks(rotation = 45)\n",
    "    \n",
    "@interact\n",
    "def display_rank_IC(factor_name = factor_list):\n",
    "    f = rankIC(eval(factor_name))\n",
    "    rank_IC_plot(f)"
   ]
  },
  {
   "cell_type": "markdown",
   "metadata": {},
   "source": [
    "### RankIC分布"
   ]
  },
  {
   "cell_type": "code",
   "execution_count": 20,
   "metadata": {},
   "outputs": [
    {
     "data": {
      "application/vnd.jupyter.widget-view+json": {
       "model_id": "efc8cf25065d45e1adc5c121aa557ddc",
       "version_major": 2,
       "version_minor": 0
      },
      "text/plain": [
       "interactive(children=(Dropdown(description='factor_name', options=('new_EP', 'new_EPcut', 'new_BP', 'new_SP', …"
      ]
     },
     "metadata": {},
     "output_type": "display_data"
    }
   ],
   "source": [
    "@interact\n",
    "def disp_distribu_RankIC(factor_name = factor_list):\n",
    "    f = rankIC(eval(factor_name))\n",
    "    sns.distplot(f)"
   ]
  },
  {
   "cell_type": "markdown",
   "metadata": {},
   "source": [
    "### IR"
   ]
  },
  {
   "cell_type": "code",
   "execution_count": 21,
   "metadata": {},
   "outputs": [
    {
     "data": {
      "application/vnd.jupyter.widget-view+json": {
       "model_id": "cba9080819d648e2ba9bbeb74094120f",
       "version_major": 2,
       "version_minor": 0
      },
      "text/plain": [
       "interactive(children=(Dropdown(description='factor_name', options=('new_EP', 'new_EPcut', 'new_BP', 'new_SP', …"
      ]
     },
     "metadata": {},
     "output_type": "display_data"
    }
   ],
   "source": [
    "def IR(factor):\n",
    "    IC_factor = IC(factor)\n",
    "    IR_factor = IC_factor/(np.std(IC_factor))\n",
    "    return IR_factor\n",
    "\n",
    "def IR_plot(factor):\n",
    "    df_2 = pd.DataFrame()\n",
    "    df_2['index'] = pd.to_datetime(new_EP.T.index)\n",
    "    df_2['YearMonth'] = pd.DatetimeIndex(df_2['index']).map(lambda x: str(x.year) +'-' + str(x.month))\n",
    "\n",
    "    dts = new_EP.T.index#.to_pydatetime()\n",
    "    fig = plt.figure(figsize = (20,8))\n",
    "    ax = fig.add_subplot(111)\n",
    "    ax.plot(df_2['YearMonth'],factor,'b')\n",
    "    graph = plt.xticks(rotation = 45)\n",
    "    \n",
    "@interact\n",
    "def displayIR(factor_name = factor_list):\n",
    "    ff = IR(eval(factor_name))\n",
    "    return IR_plot(ff)"
   ]
  },
  {
   "cell_type": "markdown",
   "metadata": {},
   "source": [
    "## 回归测试"
   ]
  },
  {
   "cell_type": "code",
   "execution_count": 22,
   "metadata": {},
   "outputs": [],
   "source": [
    "import pandas as pd \n",
    "import numpy as np\n",
    "\n",
    "# calculate factor returns using linear regression \n",
    "# then use t-test to validate\n",
    "xx = pd.concat([new_EP.iloc[:,1],dummy_industry],axis = 1) # add_constant optimize\n",
    "#factor_Series = pd.Series()\n",
    "y = np.array(Stock_Return.iloc[:,1])\n",
    "x = sm.add_constant(xx.values,prepend = False) # add constant in last column\n",
    "\n",
    "model = sm.OLS(y,x)\n",
    "results = model.fit()\n",
    "tvalue = results.params[0]\n",
    "\n",
    "def regress_test(factor_1):\n",
    "    list1 = []\n",
    "    factor = factor_1.copy()\n",
    "    const = pd.Series(np.ones(300))\n",
    " \n",
    "    for i in range(factor.shape[1]):\n",
    "        xx = pd.concat([factor.iloc[:,i],dummy_industry],axis = 1) # add_constant optimize\n",
    "        y = np.array(Stock_Return.iloc[:,i])\n",
    "        x = sm.add_constant(xx.values,prepend = False) # add constant in last column\n",
    "        model = sm.OLS(y,x)\n",
    "        results = model.fit()\n",
    "        factor_ret = results.params[0]\n",
    "        list1.append(factor_ret)\n",
    "        \n",
    "    return list1\n",
    "\n",
    "# 计算绝对值t>2在t值序列的占比\n",
    "def t_percent(factor_1):\n",
    "    list1 = regress_test(factor_1)\n",
    "    t_series = list1/np.std(list1)\n",
    "    num_t = len(t_series[np.abs(t_series) > 2])\n",
    "    num_tseries = len(t_series)\n",
    "    t_pt  = num_t/num_tseries\n",
    "    print(\"{:.2%}\".format(t_pt))"
   ]
  },
  {
   "cell_type": "markdown",
   "metadata": {},
   "source": [
    "### 绝对值t>2的占比"
   ]
  },
  {
   "cell_type": "code",
   "execution_count": 23,
   "metadata": {},
   "outputs": [
    {
     "data": {
      "application/vnd.jupyter.widget-view+json": {
       "model_id": "4cb30af38c814f67a87ff2ce6847ddde",
       "version_major": 2,
       "version_minor": 0
      },
      "text/plain": [
       "interactive(children=(Dropdown(description='factor_name', options=('new_EP', 'new_EPcut', 'new_BP', 'new_SP', …"
      ]
     },
     "metadata": {},
     "output_type": "display_data"
    }
   ],
   "source": [
    "@interact\n",
    "def display_t_percentage(factor_name = factor_list):\n",
    "    t_percent(eval(factor_name))"
   ]
  }
 ],
 "metadata": {
  "kernelspec": {
   "display_name": "Python 3",
   "language": "python",
   "name": "python3"
  },
  "language_info": {
   "codemirror_mode": {
    "name": "ipython",
    "version": 3
   },
   "file_extension": ".py",
   "mimetype": "text/x-python",
   "name": "python",
   "nbconvert_exporter": "python",
   "pygments_lexer": "ipython3",
   "version": "3.7.3"
  },
  "toc": {
   "base_numbering": 1,
   "nav_menu": {},
   "number_sections": true,
   "sideBar": true,
   "skip_h1_title": false,
   "title_cell": "Table of Contents",
   "title_sidebar": "Contents",
   "toc_cell": false,
   "toc_position": {},
   "toc_section_display": true,
   "toc_window_display": false
  },
  "varInspector": {
   "cols": {
    "lenName": 16,
    "lenType": 16,
    "lenVar": 40
   },
   "kernels_config": {
    "python": {
     "delete_cmd_postfix": "",
     "delete_cmd_prefix": "del ",
     "library": "var_list.py",
     "varRefreshCmd": "print(var_dic_list())"
    },
    "r": {
     "delete_cmd_postfix": ") ",
     "delete_cmd_prefix": "rm(",
     "library": "var_list.r",
     "varRefreshCmd": "cat(var_dic_list()) "
    }
   },
   "types_to_exclude": [
    "module",
    "function",
    "builtin_function_or_method",
    "instance",
    "_Feature"
   ],
   "window_display": false
  }
 },
 "nbformat": 4,
 "nbformat_minor": 2
}
